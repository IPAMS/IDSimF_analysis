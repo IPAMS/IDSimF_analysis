{
 "cells": [
  {
   "cell_type": "code",
   "execution_count": 1,
   "metadata": {},
   "outputs": [],
   "source": [
    "import os\n",
    "import numpy as np\n",
    "import IDSimPy.analysis as ia"
   ]
  },
  {
   "cell_type": "code",
   "execution_count": 28,
   "metadata": {},
   "outputs": [],
   "source": [
    "dat_path = os.path.join('..', '..','test','analysis','data','trajectory_v3')\n",
    "fn_static = os.path.join(dat_path, 'qitSim_2019_04_scanningTrapTest', 'qitSim_2019_04_10_001_trajectories.hd5')\n",
    "fn_variable = os.path.join(dat_path, 'qitSim_2019_07_variableTrajectoryQIT','qitSim_2019_07_22_001_trajectories.hd5')\n",
    "trj_static = ia.read_hdf5_trajectory_file(fn_static)\n",
    "trj_variable = ia.read_hdf5_trajectory_file(fn_variable)"
   ]
  },
  {
   "cell_type": "code",
   "execution_count": 29,
   "metadata": {},
   "outputs": [
    {
     "name": "stdout",
     "output_type": "stream",
     "text": [
      "['velocity x', 'velocity y', 'velocity z', 'kinetic energy (eV)', 'total collisions', 'chemical id', 'global index']\n"
     ]
    }
   ],
   "source": [
    "p_attribs = trj_static.particle_attributes\n",
    "print(p_attribs.attribute_names)"
   ]
  },
  {
   "cell_type": "code",
   "execution_count": 30,
   "metadata": {},
   "outputs": [
    {
     "name": "stdout",
     "output_type": "stream",
     "text": [
      "[-7.1296381e-05 -2.7986182e-04 -1.2232905e-04]\n",
      "[57.477237701416016, 225.61712646484375, -67.74223327636719, 0.004874825477600098, 0.0, 1.0, 2]\n"
     ]
    }
   ],
   "source": [
    "particle_index = 2\n",
    "time_step_index = 4\n",
    "position, attributes = trj_static.get_particle(particle_index, time_step_index)\n",
    "print(position)\n",
    "print(attributes)"
   ]
  },
  {
   "cell_type": "code",
   "execution_count": 31,
   "metadata": {},
   "outputs": [
    {
     "data": {
      "text/plain": [
       "-34.19147"
      ]
     },
     "execution_count": 31,
     "metadata": {},
     "output_type": "execute_result"
    }
   ],
   "source": [
    "p_attribs = trj_static.particle_attributes\n",
    "v_x = p_attribs.get('velocity x', 10)\n",
    "np.shape(v_x)\n",
    "v_x[5]"
   ]
  },
  {
   "cell_type": "code",
   "execution_count": 32,
   "metadata": {},
   "outputs": [
    {
     "name": "stdout",
     "output_type": "stream",
     "text": [
      "(600, 51)\n",
      "[-110.70718    -34.740814    98.67893     68.89975    -74.82615\n",
      "  -94.80096     42.007618   109.34093     -4.1564083 -110.77772\n",
      "  -34.19147     98.93964     68.44067    -75.24577    -94.487144\n",
      "   42.535866   109.209984    -4.7299767 -110.84533    -33.64132\n",
      "   99.19769     67.97985    -75.663345   -94.17088     43.062904\n",
      "  109.07618     -5.3033247 -110.91       -33.090366    99.45309\n",
      "   67.51732    -76.07884    -93.852196    43.58872    108.939514\n",
      "   -5.876437  -110.97173    -32.538635    99.70581     67.053085\n",
      "  -76.49227    -93.53109     44.113297   108.8         -6.4492984\n",
      " -111.03053    -31.98614     99.955864    66.58716    -76.9036\n",
      "  -76.9036   ]\n"
     ]
    }
   ],
   "source": [
    "p_attribs = trj_static.particle_attributes\n",
    "v_x = p_attribs.get('velocity x')\n",
    "print(np.shape(v_x))\n",
    "print(v_x[5,:])"
   ]
  },
  {
   "cell_type": "code",
   "execution_count": 37,
   "metadata": {},
   "outputs": [
    {
     "name": "stdout",
     "output_type": "stream",
     "text": [
      "51\n",
      "311\n",
      "5.2197227\n"
     ]
    }
   ],
   "source": [
    "p_attribs = trj_variable.particle_attributes\n",
    "v_x = p_attribs.get('velocity x')\n",
    "print(len(v_x))\n",
    "print(len(v_x[5]))\n",
    "print(v_x[5][10])"
   ]
  },
  {
   "cell_type": "code",
   "execution_count": 40,
   "metadata": {},
   "outputs": [
    {
     "name": "stdout",
     "output_type": "stream",
     "text": [
      "<IDSimPy.analysis.trajectory.StartSplatTrackingData object at 0x10bff3550>\n"
     ]
    }
   ],
   "source": [
    "stsp_data = trj_static.start_splat_data\n",
    "print(stsp_data)"
   ]
  },
  {
   "cell_type": "code",
   "execution_count": 42,
   "metadata": {},
   "outputs": [
    {
     "data": {
      "text/plain": [
       "array([[-4.3412458e-04,  3.4617024e-04, -1.8304291e-04],\n",
       "       [-3.7717851e-04,  9.4781040e-05, -4.9606210e-04],\n",
       "       [-9.0479232e-05, -3.5516085e-04,  1.4731327e-04],\n",
       "       ...,\n",
       "       [-1.8214359e-04,  2.7004542e-04, -3.5252058e-04],\n",
       "       [ 1.8459451e-04, -7.2710645e-06,  1.0155154e-04],\n",
       "       [ 3.1162266e-04,  2.8091794e-04,  2.7941447e-04]], dtype=float32)"
      ]
     },
     "execution_count": 42,
     "metadata": {},
     "output_type": "execute_result"
    }
   ],
   "source": [
    "stsp_data.start_times\n",
    "stsp_data.start_positions"
   ]
  },
  {
   "cell_type": "code",
   "execution_count": 46,
   "metadata": {},
   "outputs": [
    {
     "data": {
      "text/plain": [
       "(600, 1)"
      ]
     },
     "execution_count": 46,
     "metadata": {},
     "output_type": "execute_result"
    }
   ],
   "source": [
    "np.shape(stsp_data.splat_times)\n",
    "#stsp_data.splat_positions"
   ]
  },
  {
   "cell_type": "code",
   "execution_count": null,
   "metadata": {},
   "outputs": [],
   "source": []
  }
 ],
 "metadata": {
  "kernelspec": {
   "display_name": "Python 3",
   "language": "python",
   "name": "python3"
  },
  "language_info": {
   "codemirror_mode": {
    "name": "ipython",
    "version": 3
   },
   "file_extension": ".py",
   "mimetype": "text/x-python",
   "name": "python",
   "nbconvert_exporter": "python",
   "pygments_lexer": "ipython3",
   "version": "3.8.5"
  }
 },
 "nbformat": 4,
 "nbformat_minor": 4
}
